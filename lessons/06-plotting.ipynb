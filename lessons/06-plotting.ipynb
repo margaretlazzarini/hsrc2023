{
 "cells": [
  {
   "cell_type": "markdown",
   "metadata": {},
   "source": [
    "# Plotting with `matplotlib` \n",
    "\n",
    "*examples in this notebook are based on Nicholas Hunt-Walker's [plotting tutorial](https://github.com/nhuntwalker/teaching/blob/master/plotting_in_python.ipynb) and Jake VanderPlas' [matplotlib tutorial](https://github.com/jakevdp/2014_fall_ASTR599/blob/master/notebooks/06_MatplotlibIntro.ipynb)*\n",
    "\n",
    "In this notebook we will learn how to make basic plots like scatter plots, histograms and line plots in using the `matplotlib` library in python. Just like `numpy`, `matplotlib` is a package that contains a lot of useful functions for making plots or graphs of various types.\n",
    "\n",
    "## The gallery\n",
    "\n",
    "If you know what you want a plot to look like, but you don't know the code to make it, go to the [matplotlib gallery](http://matplotlib.org/gallery.html), where you can see examples and see the source code that generated them."
   ]
  },
  {
   "cell_type": "markdown",
   "metadata": {},
   "source": [
    "# How to work through this notebook:\n",
    "This notebook is mostly just a bunch of examples of how to make different kinds of plots. You will want to read everything thoroughly, run each cell, and make sure you understand why the code is making the plot that you see. You don't need to remember each command, you will want to keep this notebook as a reference that you can go back to and copy-paste code from when you want to make plots in the future."
   ]
  },
  {
   "cell_type": "markdown",
   "metadata": {},
   "source": [
    "## Basic Plot Commands\n",
    "\n",
    "Some of the basic plotting commands include\n",
    "```python\n",
    "plt.plot()         # all purpose plotting function\n",
    "plt.errorbar()     # plotting with errorbars\n",
    "plt.loglog(), plt.semilogx(), plt.semilogy()   # plotting in logarithmic space\n",
    "```"
   ]
  },
  {
   "cell_type": "code",
   "execution_count": null,
   "metadata": {},
   "outputs": [],
   "source": [
    "# we use matplotlib and specifically pyplot\n",
    "# the convention is to import it like this:\n",
    "import matplotlib.pyplot as plt \n",
    "\n",
    "# We'll also read some data using astropy, so let's import that\n",
    "import numpy as np \n",
    "from astropy.io import ascii\n",
    "\n",
    "# I'm also using this \"magic\" function to make my plots appear in this notebook\n",
    "# Only do this when working with Jupyter notebooks\n",
    "%matplotlib inline"
   ]
  },
  {
   "cell_type": "markdown",
   "metadata": {},
   "source": [
    "Let's make some sample `x` and `y` data, and plot it with the `plt.plot` command:"
   ]
  },
  {
   "cell_type": "code",
   "execution_count": null,
   "metadata": {},
   "outputs": [],
   "source": [
    "np.arange?"
   ]
  },
  {
   "cell_type": "code",
   "execution_count": null,
   "metadata": {},
   "outputs": [],
   "source": [
    "# Sample data\n",
    "x = np.arange(0,10,1)\n",
    "y = np.arange(10, 20,1)\n",
    "\n",
    "print(x)\n",
    "print(y)\n",
    "\n",
    "# Make the plot, then show the plot\n",
    "plt.plot(x, y)"
   ]
  },
  {
   "cell_type": "markdown",
   "metadata": {},
   "source": [
    "You can customize a bunch of features within the plot:\n",
    "* `markersize` sets the symbol size \n",
    "* `color` sets the color\n",
    "* The first argument after y sets the marker shape. Try: `x`, `.`, `o`, `+`, `--`, `-.`, `:`"
   ]
  },
  {
   "cell_type": "code",
   "execution_count": null,
   "metadata": {},
   "outputs": [],
   "source": [
    "plt.plot?"
   ]
  },
  {
   "cell_type": "code",
   "execution_count": null,
   "metadata": {},
   "outputs": [],
   "source": [
    "plt.plot(x, y, '-*', markersize=20, color='fuchsia')  "
   ]
  },
  {
   "cell_type": "markdown",
   "metadata": {},
   "source": [
    "Let's plot a sine function:"
   ]
  },
  {
   "cell_type": "code",
   "execution_count": null,
   "metadata": {},
   "outputs": [],
   "source": [
    "# Let's make x go from zero to 4*pi\n",
    "x = np.linspace(0, 4*np.pi, 50)\n",
    "y = np.sin(x)\n",
    "\n",
    "# This will be a thick dashed line:\n",
    "plt.plot(x, y, linestyle='--', linewidth=5) \n",
    "\n",
    "# Add labels to the axes\n",
    "plt.xlabel('Xlabel',fontsize=18) \n",
    "plt.ylabel('Ylabel')\n",
    "\n",
    "# Set the plot title\n",
    "plt.title('Sine Curve',fontsize=24)"
   ]
  },
  {
   "cell_type": "markdown",
   "metadata": {},
   "source": [
    "Let's plot a figure with errorbars:"
   ]
  },
  {
   "cell_type": "code",
   "execution_count": null,
   "metadata": {},
   "outputs": [],
   "source": [
    "plt.errorbar?"
   ]
  },
  {
   "cell_type": "code",
   "execution_count": null,
   "metadata": {},
   "outputs": [],
   "source": [
    "# Let's plot y=x^3\n",
    "x = np.arange(10)\n",
    "y = x**3\n",
    "\n",
    "# Let's make up some errorbars in x and y\n",
    "xerr_values = 0.2 * np.sqrt(x)\n",
    "yerr_values = 5 * np.sqrt(y)\n",
    "\n",
    "# Call the errorbar function \n",
    "plt.errorbar(x, y, fmt='-D',xerr=xerr_values, yerr=yerr_values,color='fuchsia',linewidth=3,\n",
    "    alpha=0.5)"
   ]
  },
  {
   "cell_type": "markdown",
   "metadata": {},
   "source": [
    "There are three options for log-plots: `plt.loglog()`, `plt.semilogx()`, `plt.semilogy()`"
   ]
  },
  {
   "cell_type": "code",
   "execution_count": null,
   "metadata": {},
   "outputs": [],
   "source": [
    "x = np.linspace(0, 20)\n",
    "y = np.exp(x)\n",
    "\n",
    "#plt.plot(x,y)\n",
    "plt.semilogy(x, y) "
   ]
  },
  {
   "cell_type": "markdown",
   "metadata": {},
   "source": [
    "To add a legend to your plot, include the `label` argument in the plot command, then call `plt.legend()` at the end of the plotting commands."
   ]
  },
  {
   "cell_type": "code",
   "execution_count": null,
   "metadata": {},
   "outputs": [],
   "source": [
    "xred = np.random.rand(100)\n",
    "yred = np.random.rand(100)\n",
    "\n",
    "xblue = np.random.rand(20)\n",
    "yblue = np.random.rand(20)\n",
    "\n",
    "plt.plot(xred, yred, '^', color='red', markersize=8, \n",
    "         label='Red Points')\n",
    "\n",
    "plt.plot(xblue, yblue, '+', color='blue', markersize=12, \n",
    "         markeredgewidth=3, label='Blue Points')\n",
    "\n",
    "plt.xlabel('Xaxis')\n",
    "plt.ylabel('Yaxis')\n",
    "\n",
    "plt.legend(loc='upper left',fontsize=14)\n",
    "\n",
    "# You can also place the legend in different places using this: \n",
    "# plt.legend(loc='lower left')\n"
   ]
  },
  {
   "cell_type": "markdown",
   "metadata": {},
   "source": [
    "To save figures in python you just use `plt.savefig()`:"
   ]
  },
  {
   "cell_type": "code",
   "execution_count": null,
   "metadata": {},
   "outputs": [],
   "source": [
    "x = np.linspace(0, 10)\n",
    "y = np.sin(x)\n",
    "\n",
    "plt.plot(x, y)\n",
    "plt.title('sin')\n",
    "plt.xlabel('Xaxis')\n",
    "plt.ylabel('Yaxis')\n",
    "\n",
    "# You can save an image of a plot to a file on your computer using the plt.savefig command.\n",
    "# just give savefig the file name, or path to file name that you want to write\n",
    "#Note: if you already have a file called sineplot.png, savefig will overwrite it\n",
    "plt.savefig('sineplot.pdf',overwrite=True) "
   ]
  },
  {
   "cell_type": "markdown",
   "metadata": {},
   "source": [
    "You should now be able to see a file named sineplot.png in your Jupyter file navigator and on your computer!"
   ]
  },
  {
   "cell_type": "markdown",
   "metadata": {},
   "source": [
    "Let's make a log-log plot displaying [Kepler's law](https://en.wikipedia.org/wiki/Kepler%27s_laws_of_planetary_motion). A log-log plot is a plot where both the x and y axes are shown on a logarithmic scale. Log-log plots are common in astronomy because the numbers we're plotting often span a wide range of values."
   ]
  },
  {
   "cell_type": "code",
   "execution_count": null,
   "metadata": {},
   "outputs": [],
   "source": [
    "# Semimajor-axis in units of AU:\n",
    "a_AU = np.array([0.387, 0.723, 1. , 1.524, 5.203, 9.537, 19.191, 30.069, 39.482])\n",
    "\n",
    "# Orbital period in units of years\n",
    "T_yr = np.array([0.24, 0.62, 1., 1.88, 11.86, 29.46, 84.01, 164.8, 247.7])\n",
    "\n",
    "# Let's set gravity and mass of the sun in [cgs] units:\n",
    "G = 6.67e-8\n",
    "Msun = 1.99e+33\n",
    "\n",
    "plt.loglog(a_AU, T_yr, 'o')\n",
    "plt.xlabel('Semi-Major Axis [AU]')\n",
    "plt.ylabel('Period [yrs]')"
   ]
  },
  {
   "cell_type": "code",
   "execution_count": null,
   "metadata": {},
   "outputs": [],
   "source": [
    "# now plot a function over the data\n",
    "# as you work more in python you will learn how to actually fit models to your data \n",
    "def keplers_third_law(a, M):\n",
    "    return np.sqrt((4*np.pi**2 * a**3) / (G * M))\n",
    "\n",
    "# Convert semimajor-axis into centimeters\n",
    "a_cm = a_AU * 1.496e+13 \n",
    "\n",
    "# Convert period into seconds\n",
    "T_s = T_yr * 3.154e+7\n",
    "\n",
    "plt.loglog(a_cm, T_s, 'o')\n",
    "plt.loglog(a_cm, keplers_third_law(a_cm, Msun), '--', \n",
    "           label='Keplers Third Law') # try swapping out Msun with something else and see what it looks like \n",
    "plt.xlabel('Semi-Major Axis [cm]')\n",
    "plt.ylabel('Period [s]')\n",
    "plt.legend(loc='best')\n",
    "#plt.show()"
   ]
  },
  {
   "cell_type": "markdown",
   "metadata": {},
   "source": [
    "## Scatter Plots "
   ]
  },
  {
   "cell_type": "code",
   "execution_count": null,
   "metadata": {},
   "outputs": [],
   "source": [
    "# First let's read in some data from a file that we will use for plotting\n",
    "# You will use the function ascii.read to load in the data stored in a file called mygalaxy.dat\n",
    "galaxy_table = ascii.read('data/mygalaxy.dat')"
   ]
  },
  {
   "cell_type": "code",
   "execution_count": null,
   "metadata": {},
   "outputs": [],
   "source": [
    "# Let's look at the first five lines of the data we loaded into the galaxy_table variable.\n",
    "# This is a helpful thing to do any time you load in new data, just to make sure it looks like\n",
    "# it should and you know what the column names are, etc.\n",
    "galaxy_table[:5]"
   ]
  },
  {
   "cell_type": "code",
   "execution_count": null,
   "metadata": {},
   "outputs": [],
   "source": [
    "# Check how long galaxy_table is:\n",
    "print(len(galaxy_table))"
   ]
  },
  {
   "cell_type": "code",
   "execution_count": null,
   "metadata": {},
   "outputs": [],
   "source": [
    "# Make a simple scatter plot of the values in 'col1' and 'col2'\n",
    "plt.scatter(galaxy_table['col1'], galaxy_table['col2'])"
   ]
  },
  {
   "cell_type": "markdown",
   "metadata": {},
   "source": [
    "**SIDE NOTE:** If you are running python code from a script directly in the terminal, you would want to do something like the following to get your plots to show up in a new window:\n",
    "```python\n",
    "plt.scatter(galaxy_table['col1'], galaxy_table['col2'])\n",
    "plt.show()\n",
    "```\n",
    "\n",
    "In a Jupyter Notebook, you will see the plot outputs whether or not you call `plt.show()` because we've used the `%matplotlib inline` magic function (double check that you see it in the cell where we ran our import commands)."
   ]
  },
  {
   "cell_type": "markdown",
   "metadata": {},
   "source": [
    "Let's break down these basic examples:\n",
    "- We are running functions called \"plot\" or \"scatter\" that take specific arguments.\n",
    "- The most basic arguments that these functions take are in the form of (x,y) values for the plot, and we get these from a data table. \n",
    "- We can use more specific arugments like 'o' to customize things like the plot symbol (marker) that we are using. \n",
    "\n",
    "With plt.scatter() you can change things like point color, point size, point edge color and point type. The argument syntax for adding these options are as follows: \n",
    "\n",
    "- color = 'colorname'; could be 'b' for blue, 'k' for black, 'r' for red\n",
    "- s = number; changes marker size\n",
    "- markeredgecolor = `None` or 'colorname'\n",
    "- marker = 'symbolname', i.e. `'s'` for square, `'o'` for circle, `'+'` for cross, `'x'` for x, `'*'` for star, `'^'` for triangle, etc.\n",
    "\n",
    "Let's do an example:"
   ]
  },
  {
   "cell_type": "code",
   "execution_count": null,
   "metadata": {},
   "outputs": [],
   "source": [
    "# Make a plot using the plt.scatter function, which is a function that makes scatter plots:\n",
    "plt.scatter(galaxy_table['col1'], galaxy_table['col2'], \n",
    "            color='blue', s=1, edgecolor='None', marker='o')"
   ]
  },
  {
   "cell_type": "code",
   "execution_count": null,
   "metadata": {},
   "outputs": [],
   "source": [
    "# Here would be the equivalent statement using plt.plot(), note that the syntax is a little different \n",
    "# plt.plot can make scatter plots as well as line plots.\n",
    "plt.plot(galaxy_table['col1'], galaxy_table['col2'], 'o', \n",
    "         color='blue', markersize=1, markeredgecolor='None',alpha=0.5)"
   ]
  },
  {
   "cell_type": "markdown",
   "metadata": {},
   "source": [
    "The plot is starting to look better, but there is one really important thing that is missing: **axis labels.** These are very easy to put in in matplotlib using ```plt.xlabel() and plt.ylabel().``` These functions take strings as their arguments for the labels, but can also take other arguments that case the text format: "
   ]
  },
  {
   "cell_type": "code",
   "execution_count": null,
   "metadata": {},
   "outputs": [],
   "source": [
    "plt.scatter(galaxy_table['col1'], galaxy_table['col2'], color='blue', \n",
    "            s=1, edgecolor='None', marker='o')\n",
    "\n",
    "plt.xlabel('Galactic Longitude (degrees)', fontsize=16)\n",
    "plt.ylabel('Galactic Latitude (degrees)', fontsize=16)"
   ]
  },
  {
   "cell_type": "markdown",
   "metadata": {},
   "source": [
    "We can also change things like the axis limits with ```plt.xlim()``` and ```plt.ylim().``` For these we just want to feed it a range of values for each axis: "
   ]
  },
  {
   "cell_type": "code",
   "execution_count": null,
   "metadata": {},
   "outputs": [],
   "source": [
    "plt.scatter(galaxy_table['col1'], galaxy_table['col2'], \n",
    "            color='blue', s=1, edgecolor='None', marker='o')\n",
    "\n",
    "plt.xlabel('Galactic Longitude (degrees)', fontsize=16)\n",
    "plt.ylabel('Galactic Latitude (degrees)', fontsize=16)\n",
    "\n",
    "# Change the limits on the x and y axes with the following commands:\n",
    "plt.xlim(-100,-25)\n",
    "plt.ylim(-60,-20)"
   ]
  },
  {
   "cell_type": "markdown",
   "metadata": {},
   "source": [
    "The axis labels are easy to read, but the numbers and tick marks on the axis are pretty small. We can tweak lots of little things about how the tick marks look, how they are spaced, and if we want to have a grid to guide the reader's eyes. I will give just a couple of examples here: "
   ]
  },
  {
   "cell_type": "code",
   "execution_count": null,
   "metadata": {},
   "outputs": [],
   "source": [
    "plt.scatter(galaxy_table['col1'], galaxy_table['col2'], \n",
    "            color='blue', s=1, edgecolor='None', marker='o')\n",
    "\n",
    "# Labels\n",
    "plt.xlabel('Galactic Longitude (degrees)', \n",
    "           fontweight='bold', size=16)\n",
    "plt.ylabel('Galactic Latitude (degrees)', \n",
    "           fontweight='bold', size=16)\n",
    "\n",
    "# Set axis limits\n",
    "plt.xlim([-180,180])\n",
    "plt.ylim([-90,90])\n",
    "\n",
    "# Choose axis ticks\n",
    "plt.xticks(range(-180,210,60), fontsize=16, fontweight='bold') # change tick spacing, font size and bold\n",
    "plt.yticks(range(-90,120,30), fontsize=16, fontweight='bold')\n",
    "\n",
    "# turn on minor tick marks \n",
    "plt.minorticks_on()\n",
    "\n",
    "plt.grid() # turn on a background grip to guide the eye "
   ]
  },
  {
   "cell_type": "markdown",
   "metadata": {
    "collapsed": true
   },
   "source": [
    "By default the figure is square, but maybe this is not the best way to represent our data. If this is the case we can change the size of the figure: "
   ]
  },
  {
   "cell_type": "code",
   "execution_count": null,
   "metadata": {},
   "outputs": [],
   "source": [
    "plt.figure(figsize=(10,4)) # change figure size \n",
    "plt.scatter(galaxy_table['col1'], galaxy_table['col2'], \n",
    "            color='blue', s=1, edgecolor='None', marker='o')\n",
    "\n",
    "# Labels\n",
    "plt.xlabel('Galactic Longitude (degrees)', \n",
    "           fontweight='bold', size=16)\n",
    "plt.ylabel('Galactic Latitude (degrees)', \n",
    "           fontweight='bold', size=16)\n",
    "\n",
    "# Set limits\n",
    "plt.xlim([-180,180])\n",
    "plt.ylim([-90,90])\n",
    "\n",
    "# Choose axis ticks\n",
    "plt.xticks(range(-180,210,60), fontsize=16, fontweight='bold') # change tick spacing, font size and bold\n",
    "plt.yticks(range(-90,120,30), fontsize=16, fontweight='bold')\n",
    "\n",
    "# turn on minor tick marks \n",
    "plt.minorticks_on()\n",
    "\n",
    "plt.grid() # turn on a background grip to guide the eye "
   ]
  },
  {
   "cell_type": "markdown",
   "metadata": {},
   "source": [
    "The last thing I'll mention here is how to put text on plots. This too is simple as long as you specify (x,y) coordinates for the text. "
   ]
  },
  {
   "cell_type": "code",
   "execution_count": null,
   "metadata": {},
   "outputs": [],
   "source": [
    "plt.figure(figsize=(10,4)) # change figure size \n",
    "plt.scatter(galaxy_table['col1'], galaxy_table['col2'], \n",
    "            color='blue', s=1, edgecolor='None', marker='o')\n",
    "\n",
    "# the next three lines put text on the figure at the specified coordinates\n",
    "plt.text(-90, -50, 'LMC', fontsize=20) \n",
    "plt.text(-60, -60, 'SMC', fontsize=20)\n",
    "plt.text(0, -30, 'MW Bulge', fontsize=20)\n",
    "\n",
    "plt.xlabel('Galactic Longitude (degrees)', \n",
    "           fontweight='bold', size=16)\n",
    "plt.ylabel('Galactic Latitude (degrees)', \n",
    "           fontweight='bold', size=16)\n",
    "\n",
    "plt.xlim([-180,180])\n",
    "plt.ylim([-90,90])\n",
    "\n",
    "plt.xticks(range(-180,210,60), fontsize=16, fontweight='bold') # change tick spacing, font size and bold\n",
    "plt.yticks(range(-90,120,30), fontsize=16, fontweight='bold')\n",
    "plt.minorticks_on() # turn on minor tick marks \n",
    "plt.grid() # turn on a background grip to guide the eye "
   ]
  },
  {
   "cell_type": "markdown",
   "metadata": {},
   "source": [
    "## Exercise 1 ##\n",
    "Take the plot of that demonstrates Kepler's laws in our solar system, and:\n",
    "\n",
    "- label each data point to the correct planet. \n",
    "- change the size of axes label to make them clearer.\n",
    "- make any aesthetic changes that you think enhances the meaning you're tryin to convey with the plot (maybe you want to convey that each planet is a different size, and so change the marker size; maybe you want to convey that inner planets are rocky and outer planets are gaseous, so change the marker colour for a subset of them; etc)"
   ]
  },
  {
   "cell_type": "code",
   "execution_count": null,
   "metadata": {},
   "outputs": [],
   "source": [
    "# Your code here!\n",
    "# now plot a function over the data\n",
    "# as you work more in python you will learn how to actually fit models to your data \n",
    "\n",
    "names = np.array(['Mercury','Venus','Earth','Mars','Jupiter','Saturn','Uranus','Neptune','Pluto'])\n",
    "\n",
    "# Define a function that calculates the period of a planet's orbit \n",
    "# when given its semi-major axis (a) and the mass of the Sun (M)\n",
    "def keplers_third_law(a, M):\n",
    "    return np.sqrt((4*np.pi**2 * a**3) / (G * M))\n",
    "\n",
    "# Remember, you defined a_cm and T_s above in the Kepler's Laws example:\n",
    "\n",
    "# Convert semimajor-axis into centimeters\n",
    "a_cm = a_AU * 1.496e+13 \n",
    "\n",
    "# Convert period into seconds\n",
    "T_s = T_yr * 3.154e+7\n",
    "\n",
    "#Plot the even items in the list in red.\n",
    "# remember that when you use indexes, it goes [start:stop:step]. \n",
    "# if you omit a value for start, it assumes you want to start at index 0 (first item)\n",
    "# if you omit a value for stop, it assumes you want to stop at the end of the list\n",
    "# The step is optional. You can just use [start:stop], but if you include a second :, python knows you want to specify a step size\n",
    "# So: a_cm[::2] means start at index 0, stop at the end of the list, and step by 2\n",
    "plt.loglog(a_cm[::2], T_s[::2], 'o',color='red')\n",
    "\n",
    "#Plot the odd items in the list in blue.\n",
    "# So: a_cm[1::2] means start at index 1 (second item in the list), stop at the end of the list, and step by 2\n",
    "plt.loglog(a_cm[1::2], T_s[1::2], 'o',color='blue')\n",
    "\n",
    "# Plot the semi-major axis versus the period for each planet in the Solar System using the plt.loglog command:\n",
    "plt.loglog(a_cm, keplers_third_law(a_cm, Msun), '--', \n",
    "           label='Keplers Third Law',linewidth=4,alpha=0.25) # try swapping out Msun with something else and see what it looks like \n",
    "\n",
    "# I've added this in for you, the following two lines add a label with the name of each planet onto the plot:\n",
    "for i in range(len(names)):\n",
    "    plt.text(a_cm[i],T_s[i],names[i],fontsize=12)\n",
    "\n",
    "# Create axis labels:\n",
    "plt.xlabel('Semi-Major Axis [cm]',fontsize=18)\n",
    "plt.ylabel('Period [s]',fontsize=18)\n",
    "\n",
    "#Add a legend\n",
    "plt.legend(loc='best')\n",
    "#plt.show()"
   ]
  },
  {
   "cell_type": "markdown",
   "metadata": {
    "collapsed": true
   },
   "source": [
    "## Histograms \n",
    "\n",
    "Histograms can be a great way to visualize data, and they are (surprise) easy to make it python! The basic command is \n",
    "```python\n",
    "    num, bins, patches = plt.hist(array, bins=number)\n",
    "```\n",
    "Num refers to the number of elements in each bin, and bins refers to each bin on the x-axis. Note that bins actually gives you bin EDGES, so there will always be num+1 number of bins. We can ignore patches for now. As arguments plt.hist() takes an array and the number of bins you would like (default is bins=10). Some other optional arguments for plt.hist are: \n",
    "\n",
    "- **range:** lower and upper range of bins \n",
    "- **density:** set to 'True' or 'False.' If true it will return a normalized probability distribution (fractions of 1) instead of just raw number counts for the y-axis. \n",
    "- **histtype:** can be step to something like 'step', 'stepfilled', or 'bar' for the histogram style. \n",
    "- **weights:** an array of values that must be of the same size as the number of bins. It controls the factor by which the number counts are weighted, i.e. it makes your number counts into number_counts*weight. "
   ]
  },
  {
   "cell_type": "code",
   "execution_count": null,
   "metadata": {},
   "outputs": [],
   "source": [
    "# plots histogram where the y-axis is counts \n",
    "\n",
    "# Define array with 10000 random values\n",
    "x = np.random.randn(10000)\n",
    "\n",
    "# Create a histogram of the values in x, with 50 bins\n",
    "num, bins, patches = plt.hist(x, bins=50,histtype='step')\n",
    "\n",
    "# Add labels\n",
    "plt.xlabel('Bins')\n",
    "plt.ylabel('Counts')"
   ]
  },
  {
   "cell_type": "code",
   "execution_count": null,
   "metadata": {},
   "outputs": [],
   "source": [
    "#Run this cell to get the documentation for this function:\n",
    "plt.hist?"
   ]
  },
  {
   "cell_type": "markdown",
   "metadata": {},
   "source": [
    "### Copy-paste the code that created the histogram above and change the bins, histtype, density, and range to see how it changes the plot. You can always refer to the plt.hist documentation if you want to know what you can change."
   ]
  },
  {
   "cell_type": "code",
   "execution_count": null,
   "metadata": {},
   "outputs": [],
   "source": [
    "# Copy-past code used to create histogram above here and play around with it:\n"
   ]
  },
  {
   "cell_type": "code",
   "execution_count": null,
   "metadata": {},
   "outputs": [],
   "source": [
    "# plots a histogram where the y-axis is a fraction of the total \n"
   ]
  },
  {
   "cell_type": "code",
   "execution_count": null,
   "metadata": {},
   "outputs": [],
   "source": [
    "# print out num and bins and see what they look like! what size is each array?\n",
    "# how would you plot this histogram using plt.plot? what is the x value and what is the y value?\n",
    "\n",
    "#Your code here:\n"
   ]
  },
  {
   "cell_type": "code",
   "execution_count": null,
   "metadata": {},
   "outputs": [],
   "source": [
    "#you can print the outline of a histogram using plt.plot and the drawstyle='steps' command\n",
    "plt.plot(bins[:-1],num,drawstyle='steps') "
   ]
  },
  {
   "cell_type": "markdown",
   "metadata": {},
   "source": [
    "## Subplots\n",
    "\n",
    "Subplots are a way put multiple plots in what amounts to the same figure; think of subplots like an array of plots! You can read more about the `plt.subplots` syntax [here](https://matplotlib.org/3.1.1/api/_as_gen/matplotlib.pyplot.subplots.html). The syntax for setting labels and titles can be slightly different when using subplots than when making just one plot. I tend to use `plt.subplots` for all my plotting, even with just one plot. If you don't specify `nrows` and `ncols`, you will just produce one plot."
   ]
  },
  {
   "cell_type": "code",
   "execution_count": null,
   "metadata": {},
   "outputs": [],
   "source": [
    "#set up a variable for the total figure, and for each subplot axis\n",
    "#figsize sets up the size of the total figure. You can play around with these values to see what they do\n",
    "#nrows and ncols define the number of rows and columns, respectively\n",
    "fig, ax = plt.subplots(nrows=1,ncols=2,figsize=(15,5))\n",
    "\n",
    "#Define some x and y values for plotting:\n",
    "x1 = np.linspace(0.0, 5.0)\n",
    "x2 = np.linspace(0.0, 2.0)\n",
    "\n",
    "y1 = np.cos(2 * np.pi * x1) * np.exp(-x1)\n",
    "y2 = np.cos(2 * np.pi * x2)\n",
    "\n",
    "#Plot x1 and y1 on the first axis, ax[0]\n",
    "ax[0].plot(x1,y1)\n",
    "\n",
    "#The syntax for setting x and y labels is slightly different \n",
    "#when you're calling it on an individual axis\n",
    "ax[0].set_xlabel('Xlabel') \n",
    "ax[0].set_ylabel('Ylabel')\n",
    "\n",
    "#Do the same thing for the second axis, ax[1]\n",
    "ax[1].plot(x2,y2)\n",
    "ax[1].set_xlabel('Xlabel')\n",
    "ax[1].set_ylabel('Ylabel')\n",
    "\n"
   ]
  },
  {
   "cell_type": "code",
   "execution_count": null,
   "metadata": {},
   "outputs": [],
   "source": [
    "#Now create the same two plots, but instead of having them side by side, stack them on top of each other\n",
    "\n",
    "#Fill in the ??? below to create two stacked plots. \n",
    "#Try to set the figsize to make the plot look good (not all stretched out)\n",
    "fig, ax = plt.subplots(nrows=???,ncols=???,figsize=(15,5))\n",
    "\n",
    "#Define some x and y values for plotting:\n",
    "x1 = np.linspace(0.0, 5.0)\n",
    "x2 = np.linspace(0.0, 2.0)\n",
    "\n",
    "y1 = np.cos(2 * np.pi * x1) * np.exp(-x1)\n",
    "y2 = np.cos(2 * np.pi * x2)\n",
    "\n",
    "#Plot x1 and y1 on the first axis, ax[0]\n",
    "ax[0].plot(x1,y1)\n",
    "ax[0].set_xlabel('Xlabel') \n",
    "ax[0].set_ylabel('Ylabel')\n",
    "\n",
    "#Do the same thing for the second axis, ax[1]\n",
    "ax[1].plot(x2,y2)\n",
    "ax[1].set_xlabel('Xlabel')\n",
    "ax[1].set_ylabel('Ylabel')"
   ]
  },
  {
   "cell_type": "markdown",
   "metadata": {},
   "source": [
    "You can do fancier things with subplots like have different plots share the same axis, put smaller plots as insets to larger plots, etc. Again, take a look at things like the matplotlib library for examples of different plots. "
   ]
  },
  {
   "cell_type": "markdown",
   "metadata": {},
   "source": [
    "## Plotting Exoplanets \n",
    "\n",
    "Let's try to make some plots with a new dataset. The file that we'll use is taken from [exoplanets.eu](exoplanets.eu). "
   ]
  },
  {
   "cell_type": "code",
   "execution_count": null,
   "metadata": {},
   "outputs": [],
   "source": [
    "# Read in a data file using a new package pandas, which you'll import on the line below\n",
    "# Pandas is a python package that is really good at reading/writing data files and plotting:\n",
    "import pandas as pd \n",
    "# Read in the data using pd.read_csv. The file is saved as a csv, or \"comma separated values\" file. This is the \n",
    "# format used by spreadsheet apps like Microsoft Excel and Google Sheets\n",
    "exoplanets = pd.read_csv('data/exoplanet.eu_catalog_1022.csv')"
   ]
  },
  {
   "cell_type": "code",
   "execution_count": null,
   "metadata": {},
   "outputs": [],
   "source": [
    "# Clean up your data! This file contains some values listed as infinity, which python can't handle when plotting:\n",
    "exoplanets = exoplanets[np.isfinite(exoplanets['orbital_period'])]"
   ]
  },
  {
   "cell_type": "code",
   "execution_count": null,
   "metadata": {},
   "outputs": [],
   "source": [
    "# let's see what the data table looks like\n",
    "exoplanets[:10]"
   ]
  },
  {
   "cell_type": "code",
   "execution_count": null,
   "metadata": {},
   "outputs": [],
   "source": [
    "# plot distance from host star versus mass (in jupiter masses) for each exoplanet \n",
    "plt.loglog(exoplanets['semi_major_axis'], exoplanets['mass'],'.')\n",
    "\n",
    "# Add text onto the plot using the annotate function:\n",
    "plt.annotate(\"Earth\", xy=(1,1/317.), size=12)\n",
    "plt.annotate(\"Jupiter\", xy=(5,1), size=12)\n",
    "\n",
    "# Add axis labels:\n",
    "plt.xlabel('Semi-Major Axis [AU]',size=20)\n",
    "plt.ylabel('Mass [M$_{Jup}$]', size=20)"
   ]
  },
  {
   "cell_type": "code",
   "execution_count": null,
   "metadata": {},
   "outputs": [],
   "source": [
    "# let's try to find out if the blobs above separate out by detection type\n",
    "plt.figure(figsize=(10,10))\n",
    "\n",
    "# Use fancy indexing to select only the values in your exoplanets table \n",
    "# that are listed as having different values for 'detection_type'. \n",
    "# Refer to lesson 03 for a refresher on fancy indexing\n",
    "transits = exoplanets[exoplanets['detection_type'] == 'Primary Transit']\n",
    "radial_vel = exoplanets[exoplanets['detection_type'] == 'Radial Velocity']\n",
    "imaging = exoplanets[exoplanets['detection_type'] == 'Imaging']\n",
    "ttv = exoplanets[exoplanets['detection_type'] == 'TTV']\n",
    "\n",
    "# Plot each group of exoplanets separately so that they can each be labeled and plotted in a different color:\n",
    "plt.loglog(transits['semi_major_axis'], transits['mass'], '.', label='Transit',markersize=12)\n",
    "plt.loglog(radial_vel['semi_major_axis'], radial_vel['mass'], '.', label='Radial Vel', markersize=12)\n",
    "plt.loglog(imaging['semi_major_axis'], imaging['mass'], '.', label='Direct Imaging', markersize=16)\n",
    "plt.loglog(ttv['semi_major_axis'], ttv['mass'], '.', label='TTV', color='cyan', markersize=16)\n",
    "\n",
    "# Add text annotations:\n",
    "plt.annotate(\"Earth\", xy=(1,1/317.), size=12)\n",
    "plt.annotate(\"Jupiter\", xy=(5,1), size=12)\n",
    "\n",
    "# Add axis labels:\n",
    "plt.xlabel('Semi-Major Axis [AU]', size=20)\n",
    "plt.ylabel('Mass [M$_{Jup}$]', size=20)\n",
    "\n",
    "# Add a legend:\n",
    "plt.legend(loc=4, prop={'size':16})"
   ]
  },
  {
   "cell_type": "markdown",
   "metadata": {},
   "source": [
    "## Exercise 2 ##\n",
    "Copy the code we used to make the plot of exoplanet detections (directly above), and edit it so that Earth, Mars, and Jupiter are plotted as data points *with* labels, instead of Earth and Jupiter being just text annotations. \n",
    "\n",
    "After you've made the changes, let's try to interpret this plot. Answer the following questions:\n",
    "\n",
    "- What method is best to look for Jupiter analogues? \n",
    "- Which method is most successful in detecting the masses of planets across a large range of orbital separations? *Why do you think this is?*\n",
    "- Have we found a true Earth analog? \n",
    "- List what types of worlds are represented in the figure, and what region of parameter space they occupy. Name at least 3. (e.g., \"Jupiter analogues are represented in this figure by data points occupying the 5-10 AU and 1-5 $M_J$ space, in the upper right section\")"
   ]
  },
  {
   "cell_type": "code",
   "execution_count": null,
   "metadata": {},
   "outputs": [],
   "source": [
    "### Your code here!\n",
    "# let's try to find out if the blobs above separate out by detection type\n",
    "plt.figure(figsize=(10,10))\n",
    "\n",
    "transits = exoplanets[exoplanets['detection_type'] == 'Primary Transit']\n",
    "radial_vel = exoplanets[exoplanets['detection_type'] == 'Radial Velocity']\n",
    "imaging = exoplanets[exoplanets['detection_type'] == 'Imaging']\n",
    "ttv = exoplanets[exoplanets['detection_type'] == 'TTV']\n",
    "\n",
    "\n",
    "plt.loglog(transits['semi_major_axis'], transits['mass'], '.', label='Transit',markersize=12)\n",
    "plt.loglog(radial_vel['semi_major_axis'], radial_vel['mass'], '.', label='Radial Vel', markersize=12)\n",
    "plt.loglog(imaging['semi_major_axis'], imaging['mass'], '.', label='Direct Imaging', markersize=16)\n",
    "plt.loglog(ttv['semi_major_axis'], ttv['mass'], '.', label='TTV', color='cyan', markersize=16)\n",
    "\n",
    "#plt.annotate(\"Earth\", xy=(1,1/317.), size=12)\n",
    "#plt.annotate(\"Jupiter\", xy=(5,1), size=12)\n",
    "\n",
    "\n",
    "plt.xlabel('Semi-Major Axis [AU]', size=20)\n",
    "plt.ylabel('Mass [M$_{Jup}$]', size=20)\n",
    "plt.legend(loc=4, prop={'size':16})"
   ]
  },
  {
   "cell_type": "code",
   "execution_count": null,
   "metadata": {
    "collapsed": true
   },
   "outputs": [],
   "source": []
  }
 ],
 "metadata": {
  "anaconda-cloud": {},
  "kernelspec": {
   "display_name": "Python 3 (ipykernel)",
   "language": "python",
   "name": "python3"
  },
  "language_info": {
   "codemirror_mode": {
    "name": "ipython",
    "version": 3
   },
   "file_extension": ".py",
   "mimetype": "text/x-python",
   "name": "python",
   "nbconvert_exporter": "python",
   "pygments_lexer": "ipython3",
   "version": "3.9.12"
  }
 },
 "nbformat": 4,
 "nbformat_minor": 1
}
