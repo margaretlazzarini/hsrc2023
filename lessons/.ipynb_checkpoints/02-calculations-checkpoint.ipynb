{
 "cells": [
  {
   "cell_type": "markdown",
   "metadata": {},
   "source": [
    "# Python as a calculator\n",
    "\n",
    "Math in Python works like most scientific calcators, but Python can do a lot more than your calculator. In this lesson, we'll do some math. \n",
    "\n",
    "### Example 1: Math in a cell\n",
    "\n",
    "You can type some basic math in a cell, execute the cell (`Ctrl + Enter`), and math will be returned below the cell. This works whether or not you put the math in a `print` command. Try `2+2` in the cell below:"
   ]
  },
  {
   "cell_type": "code",
   "execution_count": null,
   "metadata": {
    "scrolled": true
   },
   "outputs": [],
   "source": []
  },
  {
   "cell_type": "markdown",
   "metadata": {},
   "source": [
    "The symbol for multiplication is `*`. Do `2 * 2` below: "
   ]
  },
  {
   "cell_type": "code",
   "execution_count": null,
   "metadata": {},
   "outputs": [],
   "source": []
  },
  {
   "cell_type": "markdown",
   "metadata": {},
   "source": [
    "### Example 2: Types\n",
    "\n",
    "In Python, each variable you define has a type, which refers to how your computer stores the information. The numbers we've used so far are all integers, or `int`'s. Python can store numbers as `int`s or `float`s. A float is a decimal rather than a whole number. You can check what _type_ a number is by using the `type` function: \n",
    "\n",
    "```python\n",
    "type(5)\n",
    "```\n",
    "\n",
    "Print the types of the following things: \n",
    "* `1`\n",
    "* `1.0`\n",
    "* `\"hello, world\"`"
   ]
  },
  {
   "cell_type": "code",
   "execution_count": null,
   "metadata": {},
   "outputs": [],
   "source": [
    "print(type(1))\n",
    "print(type(1.0))\n",
    "print(type(\"hello world\"))"
   ]
  },
  {
   "cell_type": "markdown",
   "metadata": {},
   "source": [
    "If you want to represent a large number with scientific notation, you can do that with a small `e`, like this: \n",
    "```python\n",
    "two_times_ten_to_the_fifth = 2e5\n",
    "```\n",
    "where the above is $2 \\times 10^5$.\n",
    "\n",
    "In the cell below, check what `type` your variable `two_times_ten_to_the_fifth` is:"
   ]
  },
  {
   "cell_type": "code",
   "execution_count": null,
   "metadata": {},
   "outputs": [],
   "source": []
  },
  {
   "cell_type": "markdown",
   "metadata": {},
   "source": [
    "### Summary of types so far:\n",
    "| Type | Examples |\n",
    "|---|---|\n",
    "| `int` | 1, 10, 3299 |\n",
    "| `float` | 1.00, 2.5, 3.14159 |\n",
    "| `str` | 'Hello','He-stripped', 'BH', 'NS' |\n",
    "\n",
    "Note: there are some other types that Python can use to store data, specifically longer lists or tables of data. But we'll get to those in a future lesson."
   ]
  },
  {
   "cell_type": "markdown",
   "metadata": {},
   "source": [
    "### Other math operations:"
   ]
  },
  {
   "cell_type": "markdown",
   "metadata": {
    "collapsed": true
   },
   "source": [
    "Division uses the forward slash `/`, like this: \n",
    "\n",
    "```python\n",
    "print(3/2)\n",
    "```\n",
    "\n",
    "Exponentiation uses two asterisks `**` (_not_ the caret symbol `^`), like this: \n",
    "\n",
    "```python\n",
    "print(2**2)\n",
    "```\n",
    "\n",
    "### Inplace addition\n",
    "If you already have a variable, you can add, subtract, multiply, divide onto that existing variable in two ways. One is like this: \n",
    "```python\n",
    "class_number = 192\n",
    "\n",
    "class_number = class_number + 1\n",
    "```\n",
    "or\n",
    "```python\n",
    "class_number = 192\n",
    "\n",
    "class_number += 1\n",
    "```\n",
    "\n",
    "### Example 3: How many ancestors do you have?\n",
    "\n",
    "The number of great-great-great... grandparents you have goes as $2^n$ where $n$ is the number of generations back you go. For example, one generation ago $n=1$, you had $2^1 = 2$ ancestors - or two parents. Two generations ago, you had $2^2 = 4$ ancestors - or four grandparents. \n",
    "\n",
    "Use Python to answer: how many ancestors did you have thirty generations ago?"
   ]
  },
  {
   "cell_type": "code",
   "execution_count": null,
   "metadata": {},
   "outputs": [],
   "source": []
  },
  {
   "cell_type": "markdown",
   "metadata": {},
   "source": [
    "If that number sounds way larger than the number of people that were probably on Earth thirty generations ago, that's because it _is_. How is that possible? You can [read up more about this later by following this link](https://www.google.com/search?q=pedigree+collapse+royalty&oq=pedigree+collapse+royalty&aqs=chrome.0.69i59.4003j0j4&sourceid=chrome&ie=UTF-8).\n",
    "\n",
    "*** \n",
    "\n",
    "You can also use Python to compute inequalities. The _operators_ used in inequalities are: \n",
    "\n",
    "| Inequality               | Symbol| \n",
    "|--------------------------|-------|\n",
    "| Equal to                 | `==`  |\n",
    "| Not equal to             | `!=`  |\n",
    "| Greater than             | `>`   |\n",
    "| Greater than or equal to | `>=`  | \n",
    "| Less than                | `<`   | \n",
    "| Less than or equal to    | `<=`  |\n",
    "\n",
    "**Note**: you can check if something is equal to something else with the double equals `==`. You can't use single equals, because that's how you define a variable. \n",
    "\n",
    "So this sets the variable `x` to the value `5`: \n",
    "```python\n",
    "x = 5\n",
    "```\n",
    "while this asks if `x` is equal to 5: \n",
    "```python\n",
    "x == 5\n",
    "```\n",
    "\n",
    "### Example 4: Inequalities, booleans\n",
    "\n",
    "What is returned when you evaluate an inequality like `3 >= 5`? What is the type of this object?"
   ]
  },
  {
   "cell_type": "code",
   "execution_count": null,
   "metadata": {},
   "outputs": [],
   "source": []
  },
  {
   "cell_type": "markdown",
   "metadata": {},
   "source": [
    "So what is a `bool`? A boolean is a type of variable in programming that can only have two values: `True` or `False`. Confusingly, sometimes you will see true and false represented with `1` and `0`. "
   ]
  },
  {
   "cell_type": "markdown",
   "metadata": {},
   "source": [
    "### Updated summary of types so far:\n",
    "| Type | Examples |\n",
    "|---|---|\n",
    "| `int` | 1, 10, 3299 |\n",
    "| `float` | 1.00, 2.5, 3.14159 |\n",
    "| `str` | 'Hello','He-stripped', 'BH', 'NS' |\n",
    "| `bool` | `True`, `False` |"
   ]
  },
  {
   "cell_type": "markdown",
   "metadata": {},
   "source": [
    "*** \n",
    "\n",
    "## Comments \n",
    "\n",
    "So far we've been writing only a few lines of code at a time in each cell, but soon you'll be writing lots of lines. The more code you write, the harder it can be to remember what each step was. That's why we write lots of _comments_ in our code. \n",
    "\n",
    "A comment is a note you wrote in code, which Python doesn't do anything with. It's just text for human readers. You designate a comment with a `#` symbol - anything after the `#` gets ignored by Python. In a Jupyter notebook, commented text is automatically formatted differently and should appear italicized and in a blue-ish color. For example: \n",
    "\n",
    "```python\n",
    "# Here, I'm going to calculate the force on a 10kg block: \n",
    "mass = 10  # kilograms\n",
    "acceleration = 5  # meters per sec^2\n",
    "force = mass * acceleration  # I <3 physics\n",
    "print(force)\n",
    "```\n",
    "\n",
    "### Example 5: Comments welcome\n",
    "\n",
    "If the price of the computer you're working on was $1000 and the sales tax in Los Angeles is 9.5\\%, how much did it cost after tax? _Hint_: final_price = original_price * (tax_rate/100 + 1)\n",
    "\n",
    "Do this calculation by creating variables for the tax rate, the price of the computer before tax, and the final price, and leave comments throughout explaining the units and the calculation that you're doing. See the example above for hints."
   ]
  },
  {
   "cell_type": "code",
   "execution_count": null,
   "metadata": {},
   "outputs": [],
   "source": [
    "# this is a comment\n"
   ]
  },
  {
   "cell_type": "code",
   "execution_count": null,
   "metadata": {},
   "outputs": [],
   "source": []
  },
  {
   "cell_type": "markdown",
   "metadata": {},
   "source": [
    "*** \n",
    "\n",
    "In Python, you have to be careful about putting spaces or tabs in front of a line. We call spaces and/or tabs collectively _whitespace_. \n",
    "\n",
    "You can put as many spaces as you want in a line (though one at a time is the right number to use most of the time), like this:\n",
    "```python\n",
    "this_is_ok = 2 + 2\n",
    "this_is_sus_but_it_works = 2   +  2+2\n",
    "```\n",
    "\n",
    "However you can't put stray spaces in the beginning of a line. For example, if you do this: \n",
    "\n",
    "```python\n",
    "  starts_with_an_indent = 5\n",
    "```\n",
    "...an error will be raised.\n",
    "\n",
    "### Example 6: Significant whitespace\n",
    "\n",
    "Copy the last two lines of code above (where `starts_without_indent` and `starts_with_an_indent` are defined) and note the type of error that it raises:"
   ]
  },
  {
   "cell_type": "code",
   "execution_count": null,
   "metadata": {},
   "outputs": [],
   "source": []
  },
  {
   "cell_type": "markdown",
   "metadata": {},
   "source": [
    "It will become clear later why this isn't allowed - indentation is used to represent specific things."
   ]
  },
  {
   "cell_type": "markdown",
   "metadata": {},
   "source": [
    "*** \n",
    "\n",
    "## Style\n",
    " \n",
    "When you start your research project, you'll write code that you'll use for the rest of the summer (and maybe beyond!). If you can't read your own code, then you'll have difficulty understanding what you did in a few weeks or months. Writing code clearly and adding a lot of comments is really a gift for Future You and readability is really important for making your work reproducible, which is really important scientifically. Just like you wouldn't turn in your scratch paper version of your math homework, you shouldn't allow yourself to write illegible code.\n",
    "\n",
    "\n",
    "As scientists, we share our work with one another and review each other's answers. **Take turns sharing your screens so that others can review your solution to Example 5**. Ask: \n",
    "\n",
    "* Can you figure out what I was trying to accomplish with my code?\n",
    "* Do my variable names make sense to you?\n",
    "* Did I use appropriate whitespace to make the code easy to read?\n",
    "* Did I write enough comments to guide you through what I was doing? \n",
    "\n",
    "Here are some tips on naming variables to remember: \n",
    "* Variable names should use lowercase letters and numbers\n",
    "* If there's more than one word in your variable name, separate the words with underscores\n",
    "* Longer names are better than shorter names! No one ever got mad that someone else's code was _too_ readable \n",
    "\n",
    "There are lots more tips about how to write Python code \"correctly\" in the [style guide, often called \"PEP8\"](https://www.python.org/dev/peps/pep-0008/), which I'll leave a link to here for future reference. \n",
    "\n",
    "### Example 7: Variable names\n",
    "\n",
    "Can you improve your variable names and style in Example 5? If so, get to it!\n",
    "\n",
    "*** \n",
    "\n",
    "## Lists\n",
    "\n",
    "You can now use Python as a calculator, but it's more useful than a handheld calculator only when you have lots of numbers to work with. You can store a group of numbers, or groups of other things, in a type called a `list`. \n",
    "\n",
    "A list is a collection of things (they can have any type, including `int`s, `float`s, `str`s. They are separated by commas and bracketed with square brackets (`[` and `]`), like this: \n",
    "```python\n",
    "shopping_list = ['apple', 'banana', 'avocado']\n",
    "```\n",
    "We're going to practice by making a list of the heights of the tallest named trees in California:\n",
    "\n",
    "| Tree Name | Height (feet) |  Location |\n",
    "|-----------|----------|---------------|\n",
    "| Hyperion | 379 | Redwood National Park |\n",
    "| Helios | 377 | Redwood National Park |\n",
    "| New Hope | 356.5 | Jedidiah Smith Redwood State Park |\n",
    "| The General Sherman Tree | 275 | Sequoia National Park |\n",
    "| The Grizzly Giant | 209 | Yosemite National Park |"
   ]
  },
  {
   "cell_type": "code",
   "execution_count": null,
   "metadata": {},
   "outputs": [],
   "source": [
    "# Look these up and fill out the list, separating each value with commas\n",
    "heights = \n"
   ]
  },
  {
   "cell_type": "markdown",
   "metadata": {},
   "source": [
    "This list is kind of short, but with larger sets of data, you'll want to check how many elements are in your list, which you do with the `len` function, like this: \n",
    "```python\n",
    "len(heights)\n",
    "```\n",
    "Try that in the cell below: "
   ]
  },
  {
   "cell_type": "code",
   "execution_count": null,
   "metadata": {},
   "outputs": [],
   "source": []
  },
  {
   "cell_type": "markdown",
   "metadata": {},
   "source": [
    "Python has a _function_ for taking the `sum` of the numbers in a list. Let's take the sum of the ages with the following command: \n",
    "```python\n",
    "sum(heights)\n",
    "```\n",
    "### Example 8: Sum of a list\n",
    "\n",
    "How many feet tall would the tallest named trees in California be if they were stacked one on top of each other (take the sum of the heights)? Store the answer in a variable with a sensible name (remember guidelines from above!), and print the result: "
   ]
  },
  {
   "cell_type": "code",
   "execution_count": null,
   "metadata": {},
   "outputs": [],
   "source": []
  },
  {
   "cell_type": "markdown",
   "metadata": {},
   "source": [
    "### List indexing and slicing\n",
    "\n",
    "Often you'll want to be able to take a single _element_, or a few elements out of a list. To do that, you do what we call _indexing_ or _slicing_. \n",
    "\n",
    "To get a specific element from of the list `heights`, we put square brackets next to the name of the list, and we put the _index_ of the element that we want inside the brackets. The index starts at **zero for the first element**, one for the second element, etc.: \n",
    "```python\n",
    "first_element = heights[0]\n",
    "print(first_element)\n",
    "```\n",
    "\n",
    "### Example 9: Zero-based indexing\n",
    "\n",
    "Get the second element out of the list `heights`. Double check that you got the right element. "
   ]
  },
  {
   "cell_type": "code",
   "execution_count": null,
   "metadata": {},
   "outputs": [],
   "source": []
  },
  {
   "cell_type": "markdown",
   "metadata": {},
   "source": [
    "***\n",
    "\n",
    "If you want to get out multiple elements at a time, you can use two indices which designate the start and stop indices, separated by a `:` symbol. For example, let's get the fourth through seventh letters in this list:\n",
    "```python\n",
    "# Index =   0    1    2    3    4    5    6    7    8   \n",
    "astronomy = ['A', 'S', 'T', 'R', 'O', 'N', 'O', 'M', 'Y']\n",
    "print(astronomy[3:7])\n",
    "```\n",
    "which prints `['R', 'O', 'N', 'O']`. Keep in mind that the fourth element is at index 3, so that's the first number in the slice. The last number we want is the 7th number, which is stored in index 6. So we want to have the **stop** index to be equal to 6+1 or 7. \n",
    "\n",
    "### Example 10: List slicing\n",
    "\n",
    "1. Type your full name in a string, store it in the variable `full_name`\n",
    "2. You can turn that string into a list of strings by doing this: \n",
    "```python\n",
    "name = \"Vera Rubin\"\n",
    "name_list = list(name)\n",
    "print(name_list)\n",
    "```\n",
    "which yields `['V', 'e', 'r', 'a', ' ', 'R', 'u', 'b', 'i', 'n']`. \n",
    "[Vera Rubin](https://en.wikipedia.org/wiki/Vera_Rubin) was a very important astronomer whose work studying the rotation of galaxies provided the first evidence for dark matter. She worked throughout her career mentoring and advocating for women in science.\n",
    "3. Do this to make a list out of your name.\n",
    "4. Get the second through fifth letters in your name with slicing. You can change these numbers depending on the length of your name."
   ]
  },
  {
   "cell_type": "code",
   "execution_count": null,
   "metadata": {},
   "outputs": [],
   "source": []
  },
  {
   "cell_type": "markdown",
   "metadata": {},
   "source": [
    "You can get all elements starting with the third element by doing `name_list[2:]`, and you can get all elements up to the third by doing `name_list[:3]`. Give it a try below: "
   ]
  },
  {
   "cell_type": "code",
   "execution_count": null,
   "metadata": {},
   "outputs": [],
   "source": []
  },
  {
   "cell_type": "code",
   "execution_count": null,
   "metadata": {},
   "outputs": [],
   "source": []
  },
  {
   "cell_type": "markdown",
   "metadata": {},
   "source": [
    "This will be useful when you have long lists of numbers in the near future. "
   ]
  },
  {
   "cell_type": "markdown",
   "metadata": {
    "collapsed": true
   },
   "source": [
    "*** \n",
    "\n",
    "## Adding items to a list\n",
    "\n",
    "Let's say someone we wanted to add a new tall tree to our list, and you want to add its height to the `heights` list. We can do that with the `append` function, which you call like this:\n",
    "```python\n",
    "new_height = 250\n",
    "heights.append(new_height)\n",
    "print(heights)\n",
    "```\n",
    "In the second line, `heights` is the list that we're _appending_ a new number to, `.append()` says to append the number in parentheses onto `heights`.\n",
    "\n",
    "Copy and paste the code above into the cell below **and execute the cell once**, to see the output."
   ]
  },
  {
   "cell_type": "code",
   "execution_count": null,
   "metadata": {},
   "outputs": [],
   "source": []
  },
  {
   "cell_type": "markdown",
   "metadata": {},
   "source": [
    "### Example 11:\n",
    "\n",
    "What would happen if you executed the cell above a second time (and a third)? Try it and check your answer."
   ]
  },
  {
   "cell_type": "code",
   "execution_count": null,
   "metadata": {},
   "outputs": [],
   "source": []
  },
  {
   "cell_type": "code",
   "execution_count": null,
   "metadata": {},
   "outputs": [],
   "source": []
  }
 ],
 "metadata": {
  "kernelspec": {
   "display_name": "Python 3 (ipykernel)",
   "language": "python",
   "name": "python3"
  },
  "language_info": {
   "codemirror_mode": {
    "name": "ipython",
    "version": 3
   },
   "file_extension": ".py",
   "mimetype": "text/x-python",
   "name": "python",
   "nbconvert_exporter": "python",
   "pygments_lexer": "ipython3",
   "version": "3.7.12"
  }
 },
 "nbformat": 4,
 "nbformat_minor": 1
}
