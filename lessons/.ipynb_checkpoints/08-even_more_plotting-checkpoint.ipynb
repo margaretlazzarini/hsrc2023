{
 "cells": [
  {
   "cell_type": "markdown",
   "metadata": {},
   "source": [
    "# Practicing plotting: Cepheid light curves\n",
    "\n",
    "Let's put together some of the skills you've learned! You will need the file located here: `data/cepheid.txt`. Read in this file using the functions we worked on in Lesson 6. This file contains flux measurements from a variable star over time. In this notebook, your task will be to _measure the approximate distance to this star_. **Bold text** makes clear what your task is in each cell. \n",
    "\n",
    "### Read in and plot the data\n",
    "We have used the function `ascii.read` to read in data before (see `06-plotting_Lastname.ipynb` for example). **Use `ascii.read` to load the file `data/cepheid.txt` into a variable `data_table`**:"
   ]
  },
  {
   "cell_type": "code",
   "execution_count": null,
   "metadata": {},
   "outputs": [],
   "source": [
    "import matplotlib.pyplot as plt\n",
    "%matplotlib inline\n",
    "import numpy as np\n",
    "from astropy.io import ascii"
   ]
  },
  {
   "cell_type": "markdown",
   "metadata": {},
   "source": [
    "This data table has a column called `Time` which tells you the time of each brightness measurement (units of days) and a column called `Red` and `Blue` which tells you the flux of the star through two filters. \n",
    "\n",
    "**Plot the red fluxes as a function of time and reproduce this plot using `matplotlib`**. Don't forget to import `matplotlib` and to use the `%matplotlib inline` magic function within the notebook:\n",
    "\n",
    "![](files/data/example_plot_1.png)"
   ]
  },
  {
   "cell_type": "code",
   "execution_count": null,
   "metadata": {},
   "outputs": [],
   "source": []
  },
  {
   "cell_type": "markdown",
   "metadata": {},
   "source": [
    "This type of star is called a [Cepheid variable star](https://en.wikipedia.org/wiki/Classical_Cepheid_variable#Period-luminosity_relation). These stars are useful to astronomers because their flux varies in a predictable sinusoidal pattern. It turns out that the period of the flux oscillation is directly related to how intrinsically bright the star is – so if you know how long the period is, and you measure how dim the star _appears_ to be, you can estimate how far away it is because you know how bright it really is.\n",
    "\n",
    "### A very rough \"model\"\n",
    "\n",
    "In the cell below, **estimate the period of this Cepheid** by plotting a sinusoidal function over the data. You can calculate flux if you have the period of variability using the following equation: \n",
    "\n",
    "$$\\textrm{flux} = \\textrm{amplitude} \\times \\sin \\left( \\frac{2\\pi}{\\textrm{period}} \\left( \\textrm{time} - \\textrm{offset} \\right) \\right)$$\n",
    "\n",
    "Hint: start with an `offset` of zero and a period somewhere between 24 and 25 days. The `time` variable in the funciton should be the `data_table['Time']` column that you read in and remember that the `sin` function is within numpy. Also, the `amplitude` variable is something you should just play around with. Try starting with `amplitude=1` and tweak it as necessary.\n",
    "\n",
    "![](files/data/example_plot_2.png)\n",
    "\n"
   ]
  },
  {
   "cell_type": "code",
   "execution_count": null,
   "metadata": {},
   "outputs": [],
   "source": [
    "def flux(time,period,amplitude,offset):\n",
    "    \"\"\"\n",
    "    Funtion takes in a guess period and an array of times \n",
    "    and returns flux measurements as an array.\n",
    "    \"\"\"\n",
    "    #Write a python version of the equation above here (replace the ??? with code!):\n",
    "    flux = ???\n",
    "    return flux"
   ]
  },
  {
   "cell_type": "code",
   "execution_count": null,
   "metadata": {},
   "outputs": [],
   "source": [
    "plt.figure(figsize=(12.5,5))\n",
    "\n",
    "period_guess = #Hint: read the paragraph above the plot again to see what a reasonable period guess could be\n",
    "amplitude_guess = # Hint: same as the previous hint\n",
    "offset_guess = # Hint: same as the previous hint\n",
    "\n",
    "#Plot my flux curve assuming the above values:\n",
    "#Note: as long as your plot command is enclosed by (), you can make it run more than one\n",
    "#line, which helps when you've got a lot of arguments\n",
    "\n",
    "\n",
    "#Plot data points for blue and red magnitude measurements\n",
    "\n",
    "\n",
    "#Add legend\n"
   ]
  },
  {
   "cell_type": "markdown",
   "metadata": {},
   "source": [
    "### Period-luminosity relation\n",
    "\n",
    "The brightness of this Cepheid variable star is related to its period by the _period-luminosity relation_: \n",
    "\n",
    "$$ M_{v}=-2.43 \\left(\\log _{{10}}( \\textrm{period})-1\\right) - 4.05 $$\n",
    "\n",
    "where $M_v$ is the [_absolute magnitude_](https://en.wikipedia.org/wiki/Absolute_magnitude) of the star. Note that brighter stars have more negative absolute magnitudes. **Write a function** called `period_to_absolute_magnitude` which takes the period as the argument, and returns the absolute magnitude. \n",
    "\n",
    "**Create a range of periods and plot the corresponding absolute magnitudes using your function, in order to reproduce this plot: **\n",
    "\n",
    "![](files/data/example_plot_3.png)"
   ]
  },
  {
   "cell_type": "code",
   "execution_count": null,
   "metadata": {},
   "outputs": [],
   "source": [
    "def period_to_absolute_magnitude(period):\n",
    "    \"\"\"\n",
    "    Function that takes in a period value and returns a Magnitude, according to the equation\n",
    "    listed above!\n",
    "    \"\"\"\n",
    "    m_v = ???\n",
    "    return m_v"
   ]
  },
  {
   "cell_type": "code",
   "execution_count": null,
   "metadata": {},
   "outputs": [],
   "source": [
    "plt.figure(figsize=(7,7))\n",
    "\n",
    "\n",
    "\n",
    "#Make an array of periods that you can use to generate the line like the blue one on the plot above\n",
    "periods = #your code here\n",
    "\n",
    "#Call the period_to_absolute_magnitude function inside the plotting call to plot one point with our \n",
    "#best guess period and the corresponding absolute magnitude\n",
    "\n",
    "# Add x and y axis labels:\n",
    "\n",
    "#(Unneccessary) You can use a word processing language called LaTeX to format axis labels\n",
    "\n",
    "#Make tick numbers larger (I'm leaving this in for reference)\n",
    "plt.xticks(fontsize=16)\n",
    "plt.yticks(fontsize=16)\n",
    "\n",
    "#Add legend\n"
   ]
  },
  {
   "cell_type": "markdown",
   "metadata": {},
   "source": [
    "Use your function from above to **calculate the absolute magnitude of the star** in the data, and **add a point for the star to the plot**:\n",
    "\n",
    "![](files/data/example_plot_4.png)"
   ]
  },
  {
   "cell_type": "code",
   "execution_count": null,
   "metadata": {},
   "outputs": [],
   "source": []
  },
  {
   "cell_type": "markdown",
   "metadata": {},
   "source": [
    "### Measure the distance\n",
    "\n",
    "To get the distance to the star, we need to use one more equation, which calculates the distance $d$ in parsecs to a star given its absolute magnitude $M$ and its apparent magnitude $m$: \n",
    "\n",
    "$$ M = m - 5 (\\log_{10}{d} - 1) $$\n",
    "\n",
    "or \n",
    "\n",
    "$$ d = 100 ^{\\left(\\frac{1 + \\frac{m - M}{5}}{2}\\right)}$$\n",
    "\n",
    "If the apparent magnitude of this star is $m = 4$, **calcuate the distance to the star using your absolute magnitude calculated above.**"
   ]
  },
  {
   "cell_type": "code",
   "execution_count": null,
   "metadata": {},
   "outputs": [],
   "source": [
    "def distance(m,M):\n",
    "    \"\"\"\n",
    "    Function takes in m=apparent magnitude and M=absolute magnitude\n",
    "    Returns distance to star in parsecs\"\"\"\n",
    "    d = ???\n",
    "    return d"
   ]
  },
  {
   "cell_type": "code",
   "execution_count": null,
   "metadata": {},
   "outputs": [],
   "source": [
    "cepheid_dist = ??? #Use the function you just wrote to calculate this\n",
    "print('Distance to our Cepheid =',cepheid_dist,'parsecs')"
   ]
  },
  {
   "cell_type": "markdown",
   "metadata": {},
   "source": [
    "### _Phase-folded_ light curve\n",
    "\n",
    "When you find the period of some periodic light curve, we often want to line up each cycle of the observations and line them up with one another, so you can see the pattern in detail. This is called _phase folding_. You can **phase fold the light curve replacing the `times` in your plotting commands with the modulus of the times in the light curve and the period**:\n",
    "\n",
    "$$\\textrm{folded times} = \\textrm{times} \\,\\%\\, \\textrm{period}$$\n",
    "\n",
    "![](files/data/example_plot_5.png)"
   ]
  },
  {
   "cell_type": "code",
   "execution_count": null,
   "metadata": {},
   "outputs": [],
   "source": [
    "#Plot data points for blue and red magnitude measurements\n",
    "\n",
    "\n",
    "#Add legend\n"
   ]
  },
  {
   "cell_type": "markdown",
   "metadata": {},
   "source": [
    "# Probably we won't get to the code block below. If you do get here, you may need to install astropy (I'm not sure we installed that already)"
   ]
  },
  {
   "cell_type": "markdown",
   "metadata": {},
   "source": [
    "### Making a periodogram\n",
    "\n",
    "Astronomers are often looking for periodic signals in various forms of data. One of the diagnostic plots that astronomers often make when looking for periodicities is the _Lomb-Scargle periodogram_, which shows how periodic a signal is over a range of possible periods, allowing you to pick out the approximate period.\n",
    "\n",
    "The function `lomb_scargle_periodogram` takes the times and fluxes from your light curve, and returns the strongest period in your light curve and makes a plot of the periodogram. **Run this function on both the red and the blue data, and identify the period of the light curve. How close was your guess from earlier?**"
   ]
  },
  {
   "cell_type": "code",
   "execution_count": null,
   "metadata": {},
   "outputs": [],
   "source": [
    "from astropy.stats import LombScargle\n",
    "import warnings\n",
    "\n",
    "def lomb_scargle_periodogram(times, fluxes):\n",
    "    \"\"\"\n",
    "    Calculate the best period for a light curve using\n",
    "    a Lomb-Scargle periodogram, and plot the periodogram.\n",
    "    \"\"\"\n",
    "    frequency, power = LombScargle(times, fluxes).autopower()\n",
    "    best_period_index = np.argmax(power) #This identifies the index of the max value in the power array\n",
    "    best_period = 1/frequency[best_period_index] #Period = 1/frequency\n",
    "        \n",
    "    # Plot the periodogram\n",
    "    plt.figure()\n",
    "    plt.plot(1/frequency, power)\n",
    "    plt.xlabel('Period [days]')\n",
    "    plt.ylabel('Power')\n",
    "    plt.xlim(0,80)\n",
    "    plt.axvline(best_period,color='r',linestyle='--')\n",
    "    plt.title(\"Best period: {0:.4f} days\".format(best_period))\n",
    "    \n",
    "    # Return the best period\n",
    "    return best_period"
   ]
  },
  {
   "cell_type": "code",
   "execution_count": null,
   "metadata": {},
   "outputs": [],
   "source": [
    "lomb_scargle_periodogram(data_table['Time'],data_table['Blue'])"
   ]
  },
  {
   "cell_type": "code",
   "execution_count": null,
   "metadata": {},
   "outputs": [],
   "source": []
  }
 ],
 "metadata": {
  "kernelspec": {
   "display_name": "Python 3 (ipykernel)",
   "language": "python",
   "name": "python3"
  },
  "language_info": {
   "codemirror_mode": {
    "name": "ipython",
    "version": 3
   },
   "file_extension": ".py",
   "mimetype": "text/x-python",
   "name": "python",
   "nbconvert_exporter": "python",
   "pygments_lexer": "ipython3",
   "version": "3.7.12"
  }
 },
 "nbformat": 4,
 "nbformat_minor": 1
}
