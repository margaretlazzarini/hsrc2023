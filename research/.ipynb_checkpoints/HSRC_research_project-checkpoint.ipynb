{
 "cells": [
  {
   "cell_type": "markdown",
   "id": "ed2d5cae",
   "metadata": {},
   "source": [
    "# Summer Research Connections 2022"
   ]
  },
  {
   "cell_type": "markdown",
   "id": "cf8ea3ee",
   "metadata": {},
   "source": [
    "For your research project this summer, you will be identifying the optical counterpart from Hubble Space Telescope imaging to X-ray sources detected with NuSTAR, the high energy X-ray telescope that our research group at Caltech operates. We have to look at these sources with two telescopes because we expect to see high energy objects, like accreting stellar mass or supermassive black holes, with NuSTAR. However, we have to look at light with less energy, optical light that we can see with the Hubble Space Telescope, to identify other features of the system, like the companion star (which emits most of its light at optical wavelengths)."
   ]
  },
  {
   "cell_type": "markdown",
   "id": "0c79821a",
   "metadata": {},
   "source": [
    "## Big Picture: We expect to see a trend between the type of compact object we see (which we talk about here as the NuSTAR classification or category) and the type of optical counterpart we see in the Hubble Space Telescope imaging. These trends can help us understand massive binary stellar evolution, which is really important to figuring out a lot of big picture questions in astrophysics today!"
   ]
  },
  {
   "cell_type": "markdown",
   "id": "500e7f96",
   "metadata": {},
   "source": [
    "# 1. For the first part of your project, you will be looking at some images taken with the Hubble Space Telescope at the location of the X-ray sources detected by NuSTAR. "
   ]
  },
  {
   "cell_type": "markdown",
   "id": "4bb14881",
   "metadata": {},
   "source": [
    "## To get started, first look at examples of different optical counterpart types from a previous study I did in another nearby galaxy, M31 (aka Andromeda). \n",
    "You have a folder inside your research folder that is labeled \"m31_optical_counterparts\". In there, you will find images labeled with an Obs number and a source number. Below, I will list out the obs and source numbers of examples of different optical counterpart types. Please look through the images for each type to familiarize yourself with what you should be looking for when you start to classify the M33 sources."
   ]
  },
  {
   "cell_type": "raw",
   "id": "6286f4f3",
   "metadata": {},
   "source": [
    "Galaxy (g):\n",
    "Obs 17008 Source 2\n",
    "Obs 17008 Source 18\n",
    "Obs 17010 Source 3\n",
    "Obs 17010 Source 37\n",
    "Obs 17011 Source 12\n",
    "Obs 17011 Source 26\n",
    "Obs 17011 Source 51\n",
    "Obs A Source 69\n",
    "\n",
    "Cluster (c):\n",
    "Obs 17008 Source 5\n",
    "Obs 17008 Source 14\n",
    "Obs 17011 Source 1\n",
    "Obs A Source 17\n",
    "Obs A Source 18\n",
    "Obs A Source 23\n",
    "Obs A Source 34\n",
    "Obs A Source 54\n",
    "Obs A Source 60\n",
    "Obs A Source 70\n",
    "Obs A Source 76\n",
    "Obs A Source 82\n",
    "Obs A Source 91\n",
    "\n",
    "Point source (p):\n",
    "Obs 17008 Source 3\n",
    "Obs 17008 Source 4\n",
    "Obs 17008 Source 6\n",
    "Obs 17008 Source 15\n",
    "Obs 17008 Source 36\n",
    "Obs 17010 Source 2\n",
    "Obs 17011 Source 11\n",
    "Obs 17011 Source 13\n",
    "Obs A Source 9\n",
    "Obs A Source 16\n",
    "Obs A Source 31\n",
    "Obs A Source 52\n",
    "Obs A Source 57\n",
    "Obs A Source 62\n",
    "Obs A Source 63\n",
    "\n",
    "None (n) - these are sources for which I did not see a clear point source, galaxy, or cluster\n",
    "Obs 17008 Source 1\n",
    "Obs 17008 Source 7\n",
    "Obs 17008 Source 8\n",
    "Obs 17008 Source 11\n",
    "Obs 17008 Source 16\n",
    "Obs 17009 Source 1\n",
    "Obs 17010 Source 4\n",
    "Obs 17010 Source 17\n",
    "Obs A Source 4\n",
    "Obs A Source 13\n",
    "Obs A Source 22\n",
    "Obs A Source 24\n",
    "Obs A Source 25\n",
    "Obs A Source 29\n",
    "Obs A Source 33\n",
    "Obs A Source 35\n",
    "Obs A Source 36\n",
    "Obs A Source 38\n",
    "Obs A Source 39\n",
    "Obs A Source 46\n",
    "Obs A Source 48\n",
    "Obs A Source 55\n",
    "Obs A Source 61\n",
    "Obs A Source 66\n",
    "Obs A Source 74\n",
    "Obs A Source 77\n",
    "Obs A Source 89\n",
    "Obs A Source 101"
   ]
  },
  {
   "cell_type": "markdown",
   "id": "9e561be8",
   "metadata": {},
   "source": [
    "## Now, you're ready to start looking at the M33 optical images to look for counterparts.\n",
    "### You will find the images you need to look at the m33_optical_finders folder. You will need to record what type of optical counterpart you see (foreground star, background galaxy, point source, cluster, etc.). I've created a Google spreadsheet in our shared folder for you to record these optical counterparts, along with any notes for each source."
   ]
  },
  {
   "cell_type": "markdown",
   "id": "75a7c98e",
   "metadata": {},
   "source": [
    "# 2. For the second part of your project, you will be creating a figure that will allow us to look for patterns in the types of NuSTAR sources and the types of optical counterparts to these sources.\n",
    "### Your figure will look something like this:\n",
    "![fig8.png](fig8.png)\n",
    "\n",
    "### And don't worry - you don't need to start from scratch! I'll give you some code I used to create the figure above to get you started. You will need to modify it to fit your new data, but it shouldn't take as long as making the figure from scratch."
   ]
  },
  {
   "cell_type": "markdown",
   "id": "c590df7e",
   "metadata": {},
   "source": [
    "# *A bit of background on what the NuSTAR Classification means:\n",
    "As you know, we've talked about colors and brightness for stars (think: the color-magnitude diagram or the Hertzsprung-Russel diagram). We use a similar way of thinking about X-ray sources. We can tell something about what type of X-ray source we're looking at based on how bright it is and how \"red\" or \"blue\" it is. Since we can't see X-rays, the analogy of a \"red\" source is called a \"soft\" X-ray source, which emits more photons at lower energy X-ray wavelengths than higher energy X-ray wavelengths. The analogy of a \"blue\" X-ray source is called a \"hard\" X-ray source, which emits more photons at higher energy X-ray wavelengths than lower energy X-ray wavelengths. Rather than \"color\" we call this a \"hardness ratio\" in X-ray astronomy. And the brightness is referred to as \"intensity\" or \"luminosity\".\n",
    "\n",
    "To classify X-ray sources, we create a \"Hardness-Intensity Diagram\" which is the X-ray equivalent to a Color-Magnitude Diagram. I'll put one below for you to look at from a study I did in another galaxy, the Small Magellanic Cloud:\n",
    "![hardness_intensity.png](hardness_intensity.png)\n",
    "\n",
    "_Only look at the left panel for now!_ You should be able to see that the colorful points kind of clump together by color. We know the type of compact object for the colorful points - these are sources we have observed in our own Galaxy. When we have a new source and we don't know what type it is, we can look at what color clump it falls on in the diagram to help us figure out what kind of source it is. \n",
    "\n",
    "The types of sources on the diagram are listed below with a little bit of background:</br>\n",
    "**ULX** - Ultra-luminous X-ray sources, these are some of the brightest X-ray sources we know!</br>\n",
    "**Pulsar** - This is a neutron star that spins really rapidly and has a strong magnetic field</br>\n",
    "**Neutron star** - This is a neutron star that doesn't spin really rapidly and has a \"normal\" magnetic field.</br>\n",
    "**Hard BH** - this is a hard accretion state BH, which means that we're mostly seeing high energy photons from the corona, the area around the black hole's accretion disk, rather than thermal photons from the accretion disk itself.</br>\n",
    "**Intermediate BH** - this is the transitional state between soft and hard</br>\n",
    "**Soft BH** - this is a soft accretion state BH, this means we're mostly seeing thermal photons emitted from the accretion disk, rather than photons from the corona, the region around the accretion disk.</br>"
   ]
  },
  {
   "cell_type": "markdown",
   "id": "743dace6",
   "metadata": {},
   "source": [
    "## You'll find some example code below that you can modify to make your plot for our data in M33.\n",
    "It is **very important** that you make sure you understand everything this code is doing both for your own learning and so that you can make sure you know how to modify it for your project."
   ]
  },
  {
   "cell_type": "code",
   "execution_count": 1,
   "id": "d83c4525",
   "metadata": {},
   "outputs": [],
   "source": [
    "import matplotlib.pyplot as plt\n",
    "import matplotlib.colors as clr\n",
    "from matplotlib.colors import LogNorm\n",
    "import matplotlib.cm as cmx\n",
    "from matplotlib import animation\n",
    "from matplotlib.colorbar import ColorbarBase\n",
    "import matplotlib.patches as patches\n",
    "import matplotlib.path as mpltPath\n",
    "from matplotlib.collections import PatchCollection\n",
    "\n",
    "from astropy.table import Table, Column, vstack\n",
    "import numpy as np\n",
    "import os\n",
    "from astropy.coordinates import SkyCoord\n",
    "import astropy.units as u\n",
    "from astropy.coordinates import Angle\n",
    "from astropy.io import ascii\n",
    "from astropy.io import fits\n",
    "from astropy.wcs import WCS\n",
    "from astropy.io import fits\n",
    "from astropy.utils.data import get_pkg_data_filename\n",
    "\n",
    "import random\n",
    "import os, sys, string\n",
    "import copy\n",
    "\n",
    "import pandas as pd\n",
    "\n",
    "#import seaborn as sns\n",
    "#sns.set()\n",
    "\n",
    "#import vaex\n",
    "\n",
    "plt.rc('font', family='serif')\n",
    "plt.rc('xtick', labelsize=18) \n",
    "plt.rc('ytick', labelsize=18)  \n",
    "plt.rc('legend', fontsize=18)\n",
    "plt.rc('axes', labelsize=20) \n",
    "\n",
    "cube_helix = ['#CEEBEF','#C3C1F2','#D38EC5','#C1786F','#747A32','#2B7039','#15454F','#1B1835']\n",
    "\n",
    "%matplotlib inline"
   ]
  },
  {
   "cell_type": "code",
   "execution_count": 43,
   "id": "ef265360",
   "metadata": {},
   "outputs": [],
   "source": [
    "np.histogram2d?"
   ]
  },
  {
   "cell_type": "code",
   "execution_count": 14,
   "id": "51cf9ec8",
   "metadata": {},
   "outputs": [],
   "source": [
    "### Example code you can use as a starting point to create your plot where you compare the\n",
    "### NuSTAR classification and the optical counterpart\n",
    "def type_comparison():\n",
    "    fig,ax = plt.subplots(figsize=(8,5.5))\n",
    "    ax.set_xlabel('NuSTAR Classification',fontsize=20)\n",
    "    ax.set_ylabel('Optical Counterpart',fontsize=20)\n",
    "    #ax.set_ylim(-1,4)\n",
    "    #ax.set_xlim(-1,6)\n",
    "    ax.tick_params(axis='both', which='major', labelsize=18)\n",
    "    plt.xticks( np.arange(0,6,1), ('H', 'I', 'S', 'P', 'Z', 'ULX') )\n",
    "    plt.yticks( np.arange(0,5,1), ('cluster', 'FS', 'galaxy', 'point', 'none') )\n",
    "    \n",
    "    ### Note: in this example, chan_nust_phat refers to a table that includes the NuSTAR\n",
    "    ### classification and optical counterpart for each source. You will have to read\n",
    "    ### this table in, using the classifications you did in Google sheets.\n",
    "    \n",
    "\n",
    "    ### Hint: you probably want to change the name of the table to something\n",
    "    ### that makes more sense for this project.\n",
    "    nustar = np.zeros(len(data))\n",
    "    optical = np.zeros(len(data))\n",
    "    \n",
    "    for i in range(len(data)):\n",
    "        if data['NuSTAR_Type'][i]=='H':\n",
    "            nustar[i]=0\n",
    "        if data['NuSTAR_Type'][i]=='I':\n",
    "            nustar[i]=1\n",
    "        if data['NuSTAR_Type'][i]=='S':\n",
    "            nustar[i]=2\n",
    "        if data['NuSTAR_Type'][i]=='P':\n",
    "            nustar[i]=3\n",
    "        if data['NuSTAR_Type'][i]=='Z':\n",
    "            nustar[i]=4\n",
    "        if data['NuSTAR_Type'][i]=='ULX':\n",
    "            nustar[i]=5\n",
    "        if data['optical_cp'][i]=='c':\n",
    "            optical[i]=0\n",
    "        if data['optical_cp'][i]=='f':\n",
    "            optical[i]=1\n",
    "        if data['optical_cp'][i]=='g':\n",
    "            optical[i]=2\n",
    "        if data['optical_cp'][i]=='p':\n",
    "            optical[i]=3\n",
    "        if data['optical_cp'][i]=='n':\n",
    "            optical[i]=4\n",
    "        if data['optical_cp'][i]=='x':\n",
    "            optical[i]=5\n",
    "    \n",
    "    x_edges = [0,1,2,3,4,5,6]\n",
    "    y_edges=[0,1,2,3,4,5]\n",
    "\n",
    "    H, xedges, yedges = np.histogram2d(nustar, optical, bins=(x_edges,y_edges))\n",
    "    H = H.T\n",
    "    ax.set_ylim(-0.5,4.5)\n",
    "    hist = plt.imshow(H)\n",
    "    cbar = plt.colorbar(hist)\n",
    "    cbar.set_label('# of objects',fontsize=14)\n",
    "    \n",
    "\n",
    "    print('total sources being represented =',np.int(np.sum(H)))\n",
    "    \n",
    "    # This block of code below is what prints the number on each box in the \n",
    "    # diagram.\n",
    "    for k in range(0,5):\n",
    "        for m in range(0,6):\n",
    "            ax.text(m-0.1,k-0.1,np.int(H[k][m]),color='w',fontsize=24)\n",
    "    # This is a useful command that just \"makes everything look good\". Try running\n",
    "    # your code with it commented out and then with it to see what it does.\n",
    "    plt.tight_layout()\n",
    "    \n",
    "    # Uncomment the following line to save your figure\n",
    "    # Change FILENAME to a good name for this plot/project\n",
    "    plt.savefig('m33_nustar_optical_comparison.pdf',bbox_inches='tight')"
   ]
  },
  {
   "cell_type": "code",
   "execution_count": 15,
   "id": "9f7f7da1",
   "metadata": {},
   "outputs": [
    {
     "name": "stderr",
     "output_type": "stream",
     "text": [
      "/Users/mlazz/opt/anaconda3/envs/astro/lib/python3.7/site-packages/ipykernel_launcher.py:60: DeprecationWarning: `np.int` is a deprecated alias for the builtin `int`. To silence this warning, use `int` by itself. Doing this will not modify any behavior and is safe. When replacing `np.int`, you may wish to use e.g. `np.int64` or `np.int32` to specify the precision. If you wish to review your current use, check the release note link for additional information.\n",
      "Deprecated in NumPy 1.20; for more details and guidance: https://numpy.org/devdocs/release/1.20.0-notes.html#deprecations\n",
      "/Users/mlazz/opt/anaconda3/envs/astro/lib/python3.7/site-packages/ipykernel_launcher.py:66: DeprecationWarning: `np.int` is a deprecated alias for the builtin `int`. To silence this warning, use `int` by itself. Doing this will not modify any behavior and is safe. When replacing `np.int`, you may wish to use e.g. `np.int64` or `np.int32` to specify the precision. If you wish to review your current use, check the release note link for additional information.\n",
      "Deprecated in NumPy 1.20; for more details and guidance: https://numpy.org/devdocs/release/1.20.0-notes.html#deprecations\n"
     ]
    },
    {
     "name": "stdout",
     "output_type": "stream",
     "text": [
      "total sources being represented = 24\n"
     ]
    },
    {
     "data": {
      "image/png": "[encoded data removed]",
      "text/plain": [
       "<Figure size 576x396 with 2 Axes>"
      ]
     },
     "metadata": {
      "needs_background": "light"
     },
     "output_type": "display_data"
    }
   ],
   "source": [
    "# To run the function above and create your figure, just execute the following line of code:\n",
    "type_comparison()"
   ]
  },
  {
   "cell_type": "code",
   "execution_count": 6,
   "id": "ae486d4b",
   "metadata": {},
   "outputs": [
    {
     "name": "stdout",
     "output_type": "stream",
     "text": [
      "HSRC_research_project.ipynb  \u001b[34mm31_uv_finders\u001b[m\u001b[m\r\n",
      "fig4.pdf                     \u001b[34mm33_optical_finders\u001b[m\u001b[m\r\n",
      "fig8.pdf                     \u001b[34mm33_uv_finders\u001b[m\u001b[m\r\n",
      "fig8.png                     nustar_m33.csv\r\n",
      "hardness_intensity.png       nustar_m33_opt_cp.tsv\r\n",
      "\u001b[34mm31_optical_finders\u001b[m\u001b[m          nustar_m33_opt_cp_sheets.tsv\r\n"
     ]
    }
   ],
   "source": [
    "!ls"
   ]
  },
  {
   "cell_type": "code",
   "execution_count": 2,
   "id": "bdcf52c3",
   "metadata": {},
   "outputs": [],
   "source": [
    "data = Table.read('nustar_m33_opt_cp.tsv',format='ascii.tab')"
   ]
  },
  {
   "cell_type": "code",
   "execution_count": 7,
   "id": "cd7db163",
   "metadata": {},
   "outputs": [
    {
     "data": {
      "text/html": [
       "<div><i>Table length=1</i>\n",
       "<table id=\"table140258607575952\" class=\"table-striped table-bordered table-condensed\">\n",
       "<thead><tr><th>Chandra_ID</th><th>NuSTAR_ID</th><th>NuSTAR_RA</th><th>NuSTAR_Dec</th><th>Rate_425</th><th>e_Rate_425</th><th>E_Rate_425</th><th>HR1</th><th>e_HR1</th><th>E_HR1</th><th>HR2</th><th>e_HR2</th><th>E_HR2</th><th>NuSTAR_Type</th><th>NuSTAR_Type_2</th><th>NuSTAR_Type_3</th><th>NuSTAR_Type_4</th><th>optical_cp</th><th>notes</th><th>col19</th><th>_1</th><th>_2</th><th>_3</th></tr></thead>\n",
       "<thead><tr><th>int64</th><th>int64</th><th>float64</th><th>float64</th><th>float64</th><th>float64</th><th>float64</th><th>float64</th><th>float64</th><th>float64</th><th>float64</th><th>float64</th><th>float64</th><th>str3</th><th>str2</th><th>str1</th><th>str1</th><th>str1</th><th>str68</th><th>int64</th><th>int64</th><th>int64</th><th>str32</th></tr></thead>\n",
       "<tr><td>318</td><td>1</td><td>23.46105</td><td>30.660042</td><td>205.5</td><td>1.1</td><td>1.2</td><td>-0.245</td><td>-0.005</td><td>0.005</td><td>-0.786</td><td>-0.006</td><td>0.005</td><td>ULX</td><td>I</td><td>H</td><td>P</td><td>c</td><td>nucleus of M33</td><td>--</td><td>--</td><td>--</td><td>--</td></tr>\n",
       "</table></div>"
      ],
      "text/plain": [
       "<Table length=1>\n",
       "Chandra_ID NuSTAR_ID NuSTAR_RA NuSTAR_Dec Rate_425 e_Rate_425 E_Rate_425 ... NuSTAR_Type_4 optical_cp     notes      col19   _1    _2    _3 \n",
       "  int64      int64    float64   float64   float64   float64    float64   ...      str1        str1        str68      int64 int64 int64 str32\n",
       "---------- --------- --------- ---------- -------- ---------- ---------- ... ------------- ---------- -------------- ----- ----- ----- -----\n",
       "       318         1  23.46105  30.660042    205.5        1.1        1.2 ...             P          c nucleus of M33    --    --    --    --"
      ]
     },
     "execution_count": 7,
     "metadata": {},
     "output_type": "execute_result"
    }
   ],
   "source": [
    "data[(data['optical_cp']=='c')]"
   ]
  },
  {
   "cell_type": "code",
   "execution_count": 15,
   "id": "e039a8d4",
   "metadata": {},
   "outputs": [
    {
     "data": {
      "text/html": [
       "&lt;Column name=&apos;NuSTAR_Type&apos; dtype=&apos;str3&apos; length=6&gt;\n",
       "<table>\n",
       "<tr><td>H</td></tr>\n",
       "<tr><td>I</td></tr>\n",
       "<tr><td>P</td></tr>\n",
       "<tr><td>S</td></tr>\n",
       "<tr><td>ULX</td></tr>\n",
       "<tr><td>Z</td></tr>\n",
       "</table>"
      ],
      "text/plain": [
       "<Column name='NuSTAR_Type' dtype='str3' length=6>\n",
       "  H\n",
       "  I\n",
       "  P\n",
       "  S\n",
       "ULX\n",
       "  Z"
      ]
     },
     "execution_count": 15,
     "metadata": {},
     "output_type": "execute_result"
    }
   ],
   "source": [
    "np.unique(data['NuSTAR_Type'])"
   ]
  },
  {
   "cell_type": "code",
   "execution_count": 16,
   "id": "e6d84f16",
   "metadata": {},
   "outputs": [
    {
     "data": {
      "text/html": [
       "&lt;Column name=&apos;optical_cp&apos; dtype=&apos;str1&apos; length=6&gt;\n",
       "<table>\n",
       "<tr><td>c</td></tr>\n",
       "<tr><td>f</td></tr>\n",
       "<tr><td>g</td></tr>\n",
       "<tr><td>n</td></tr>\n",
       "<tr><td>p</td></tr>\n",
       "<tr><td>x</td></tr>\n",
       "</table>"
      ],
      "text/plain": [
       "<Column name='optical_cp' dtype='str1' length=6>\n",
       "c\n",
       "f\n",
       "g\n",
       "n\n",
       "p\n",
       "x"
      ]
     },
     "execution_count": 16,
     "metadata": {},
     "output_type": "execute_result"
    }
   ],
   "source": [
    "np.unique(data['optical_cp'])"
   ]
  },
  {
   "cell_type": "code",
   "execution_count": 3,
   "id": "7ad68e38",
   "metadata": {},
   "outputs": [],
   "source": [
    "data['NuSTAR_Type'][(data['NuSTAR_Type']=='H ')] = 'H'"
   ]
  },
  {
   "cell_type": "code",
   "execution_count": 21,
   "id": "7f3ac6d3",
   "metadata": {},
   "outputs": [
    {
     "data": {
      "text/plain": [
       "(array([[  7.,   0.,   0.,   0.,   0.,   0.,   0.,   0.,   0.,   0.],\n",
       "        [  0.,  22.,   0.,   0.,   0.,   0.,   0.,   0.,   0.,   0.],\n",
       "        [  0.,   0.,  61.,   0.,   0.,   0.,   0.,   0.,   0.,   0.],\n",
       "        [  0.,   0.,   0., 138.,   0.,   0.,   0.,   0.,   0.,   0.],\n",
       "        [  0.,   0.,   0.,   0., 216.,   0.,   0.,   0.,   0.,   0.],\n",
       "        [  0.,   0.,   0.,   0.,   0., 241.,   0.,   0.,   0.,   0.],\n",
       "        [  0.,   0.,   0.,   0.,   0.,   0., 193.,   0.,   0.,   0.],\n",
       "        [  0.,   0.,   0.,   0.,   0.,   0.,   0.,  88.,   0.,   0.],\n",
       "        [  0.,   0.,   0.,   0.,   0.,   0.,   0.,   0.,  27.,   0.],\n",
       "        [  0.,   0.,   0.,   0.,   0.,   0.,   0.,   0.,   0.,   7.]]),\n",
       " array([-3099.36238657, -2499.62743597, -1899.89248536, -1300.15753476,\n",
       "         -700.42258416,  -100.68763355,   499.04731705,  1098.78226765,\n",
       "         1698.51721826,  2298.25216886,  2897.98711947]),\n",
       " array([-3099.36238657, -2499.62743597, -1899.89248536, -1300.15753476,\n",
       "         -700.42258416,  -100.68763355,   499.04731705,  1098.78226765,\n",
       "         1698.51721826,  2298.25216886,  2897.98711947]),\n",
       " <matplotlib.collections.QuadMesh at 0x7f93b0a82f90>)"
      ]
     },
     "execution_count": 21,
     "metadata": {},
     "output_type": "execute_result"
    },
    {
     "data": {
      "image/png": "[encoded data removed]",
      "text/plain": [
       "<Figure size 432x288 with 1 Axes>"
      ]
     },
     "metadata": {
      "needs_background": "light"
     },
     "output_type": "display_data"
    }
   ],
   "source": [
    "x = np.random.normal(0,1000,1000)\n",
    "\n",
    "fig,ax=plt.subplots()\n",
    "#ax.hist(x)\n",
    "\n",
    "ax.hist2d(x,x)"
   ]
  },
  {
   "cell_type": "code",
   "execution_count": 41,
   "id": "03a022e5",
   "metadata": {},
   "outputs": [],
   "source": [
    "### Example code you can use as a starting point to create your plot where you compare the\n",
    "### NuSTAR classification and the optical counterpart\n",
    "def type_comparison():\n",
    "    fig,ax = plt.subplots(figsize=(8,5.5))\n",
    "    ax.set_xlabel('NuSTAR Classification',fontsize=20)\n",
    "    ax.set_ylabel('Optical Counterpart',fontsize=20)\n",
    "    #ax.set_ylim(-1,4)\n",
    "    #ax.set_xlim(-1,6)\n",
    "    ax.tick_params(axis='both', which='major', labelsize=18)\n",
    "    plt.xticks( np.arange(0,6,1), ('H', 'I', 'S', 'P', 'Z', 'ULX') )\n",
    "    plt.yticks( np.arange(0,6,1), ('cluster', 'FS', 'galaxy', 'point', 'none','no data') )\n",
    "    \n",
    "    ### Note: in this example, chan_nust_phat refers to a table that includes the NuSTAR\n",
    "    ### classification and optical counterpart for each source. You will have to read\n",
    "    ### this table in, using the classifications you did in Google sheets.\n",
    "    \n",
    "\n",
    "    ### Hint: you probably want to change the name of the table to something\n",
    "    ### that makes more sense for this project.\n",
    "    nustar = np.zeros(len(data))\n",
    "    optical = np.zeros(len(data))\n",
    "    \n",
    "    for i in range(len(data)):\n",
    "        if data['NuSTAR_Type'][i]=='H':\n",
    "            nustar[i]=0\n",
    "        if data['NuSTAR_Type'][i]=='I':\n",
    "            nustar[i]=1\n",
    "        if data['NuSTAR_Type'][i]=='S':\n",
    "            nustar[i]=2\n",
    "        if data['NuSTAR_Type'][i]=='P':\n",
    "            nustar[i]=3\n",
    "        if data['NuSTAR_Type'][i]=='Z':\n",
    "            nustar[i]=4\n",
    "        if data['NuSTAR_Type'][i]=='ULX':\n",
    "            nustar[i]=5\n",
    "        if data['optical_cp'][i]=='c':\n",
    "            optical[i]=0\n",
    "        if data['optical_cp'][i]=='f':\n",
    "            optical[i]=1\n",
    "        if data['optical_cp'][i]=='g':\n",
    "            optical[i]=2\n",
    "        if data['optical_cp'][i]=='p':\n",
    "            optical[i]=3\n",
    "        if data['optical_cp'][i]=='n':\n",
    "            optical[i]=4\n",
    "        if data['optical_cp'][i]=='x':\n",
    "            optical[i]=5\n",
    "    \n",
    "    x_edges = [0,1,2,3,4,5,6]\n",
    "    y_edges=[0,1,2,3,4,5,6]\n",
    "\n",
    "    H, xedges, yedges = np.histogram2d(nustar, optical, bins=(x_edges,y_edges))\n",
    "    H = H.T\n",
    "    ax.set_ylim(-0.5,4.5)\n",
    "    hist = plt.imshow(H)\n",
    "    cbar = plt.colorbar(hist)\n",
    "    cbar.set_label('# of objects',fontsize=14)\n",
    "    \n",
    "\n",
    "    print('total sources being represented =',int(np.sum(H)))\n",
    "    \n",
    "    # This block of code below is what prints the number on each box in the \n",
    "    # diagram.\n",
    "    for k in range(0,6):\n",
    "        for m in range(0,6):\n",
    "            ax.text(m-0.1,k-0.1,int(H[k][m]),color='w',fontsize=24)\n",
    "    # This is a useful command that just \"makes everything look good\". Try running\n",
    "    # your code with it commented out and then with it to see what it does.\n",
    "    plt.tight_layout()\n",
    "    \n",
    "    # Uncomment the following line to save your figure\n",
    "    # Change FILENAME to a good name for this plot/project\n",
    "    #plt.savefig('FILENAME.pdf',bbox_inches='tight')"
   ]
  },
  {
   "cell_type": "code",
   "execution_count": 34,
   "id": "11a65475",
   "metadata": {},
   "outputs": [
    {
     "data": {
      "text/html": [
       "<div><i>Table length=1</i>\n",
       "<table id=\"table140273117799696\" class=\"table-striped table-bordered table-condensed\">\n",
       "<thead><tr><th>Chandra_ID</th><th>NuSTAR_ID</th><th>NuSTAR_RA</th><th>NuSTAR_Dec</th><th>Rate_425</th><th>e_Rate_425</th><th>E_Rate_425</th><th>HR1</th><th>e_HR1</th><th>E_HR1</th><th>HR2</th><th>e_HR2</th><th>E_HR2</th><th>NuSTAR_Type</th><th>NuSTAR_Type_2</th><th>NuSTAR_Type_3</th><th>NuSTAR_Type_4</th><th>optical_cp</th><th>notes</th><th>col19</th><th>_1</th><th>_2</th><th>_3</th></tr></thead>\n",
       "<thead><tr><th>int64</th><th>int64</th><th>float64</th><th>float64</th><th>float64</th><th>float64</th><th>float64</th><th>float64</th><th>float64</th><th>float64</th><th>float64</th><th>float64</th><th>float64</th><th>str3</th><th>str2</th><th>str1</th><th>str1</th><th>str1</th><th>str68</th><th>int64</th><th>int64</th><th>int64</th><th>str32</th></tr></thead>\n",
       "<tr><td>318</td><td>1</td><td>23.46105</td><td>30.660042</td><td>205.5</td><td>1.1</td><td>1.2</td><td>-0.245</td><td>-0.005</td><td>0.005</td><td>-0.786</td><td>-0.006</td><td>0.005</td><td>ULX</td><td>I</td><td>H</td><td>P</td><td>c</td><td>nucleus of M33</td><td>--</td><td>--</td><td>--</td><td>--</td></tr>\n",
       "</table></div>"
      ],
      "text/plain": [
       "<Table length=1>\n",
       "Chandra_ID NuSTAR_ID NuSTAR_RA NuSTAR_Dec Rate_425 e_Rate_425 E_Rate_425 ... NuSTAR_Type_4 optical_cp     notes      col19   _1    _2    _3 \n",
       "  int64      int64    float64   float64   float64   float64    float64   ...      str1        str1        str68      int64 int64 int64 str32\n",
       "---------- --------- --------- ---------- -------- ---------- ---------- ... ------------- ---------- -------------- ----- ----- ----- -----\n",
       "       318         1  23.46105  30.660042    205.5        1.1        1.2 ...             P          c nucleus of M33    --    --    --    --"
      ]
     },
     "execution_count": 34,
     "metadata": {},
     "output_type": "execute_result"
    }
   ],
   "source": [
    "data[(data['optical_cp']=='c')]"
   ]
  },
  {
   "cell_type": "code",
   "execution_count": 42,
   "id": "ff5fabbc",
   "metadata": {},
   "outputs": [
    {
     "name": "stdout",
     "output_type": "stream",
     "text": [
      "total sources being represented = 24\n"
     ]
    },
    {
     "data": {
      "image/png": "[encoded data removed]",
      "text/plain": [
       "<Figure size 576x396 with 2 Axes>"
      ]
     },
     "metadata": {
      "needs_background": "light"
     },
     "output_type": "display_data"
    }
   ],
   "source": [
    "type_comparison()"
   ]
  }
 ],
 "metadata": {
  "kernelspec": {
   "display_name": "Python 3 (ipykernel)",
   "language": "python",
   "name": "python3"
  },
  "language_info": {
   "codemirror_mode": {
    "name": "ipython",
    "version": 3
   },
   "file_extension": ".py",
   "mimetype": "text/x-python",
   "name": "python",
   "nbconvert_exporter": "python",
   "pygments_lexer": "ipython3",
   "version": "3.7.12"
  }
 },
 "nbformat": 4,
 "nbformat_minor": 5
}
